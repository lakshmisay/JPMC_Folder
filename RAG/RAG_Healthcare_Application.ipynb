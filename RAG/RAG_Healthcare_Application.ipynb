{
  "cells": [
    {
      "cell_type": "code",
      "execution_count": null,
      "metadata": {
        "id": "nplu-QzZQDYj",
        "outputId": "2bb8c9ba-b4fd-4354-ef4e-919ed7cf91b8"
      },
      "outputs": [
        {
          "name": "stderr",
          "output_type": "stream",
          "text": [
            "C:\\Users\\aspdiscovery\\anaconda3\\Lib\\site-packages\\sentence_transformers\\cross_encoder\\CrossEncoder.py:13: TqdmExperimentalWarning: Using `tqdm.autonotebook.tqdm` in notebook mode. Use `tqdm.tqdm` instead to force console mode (e.g. in jupyter console)\n",
            "  from tqdm.autonotebook import tqdm, trange\n"
          ]
        },
        {
          "name": "stdout",
          "output_type": "stream",
          "text": [
            "WARNING:tensorflow:From C:\\Users\\aspdiscovery\\anaconda3\\Lib\\site-packages\\tf_keras\\src\\losses.py:2976: The name tf.losses.sparse_softmax_cross_entropy is deprecated. Please use tf.compat.v1.losses.sparse_softmax_cross_entropy instead.\n",
            "\n"
          ]
        }
      ],
      "source": [
        "import pandas as pd\n",
        "from sentence_transformers import SentenceTransformer\n",
        "import numpy as np\n",
        "import faiss\n",
        "import re"
      ]
    },
    {
      "cell_type": "code",
      "execution_count": null,
      "metadata": {
        "id": "BQr8AUFHQHBs"
      },
      "outputs": [],
      "source": [
        "# Load the CSV data\n",
        "file_path = r\"patient_records_50k.csv\"\n",
        "data = pd.read_csv(file_path)\n",
        "\n",
        "# Step 1: Data Preprocessing\n",
        "def preprocess_text(text):\n",
        "    text = re.sub(r'[^a-zA-Z0-9\\s]', '', text)\n",
        "    text = text.lower().strip()\n",
        "    return text\n",
        "\n",
        "# Combine relevant text columns for vectorization\n",
        "data['combined_text'] = data['medical_conditions'] + ' ' + data['current_medications'] + ' ' + \\\n",
        "                        data['problem_description'] + ' ' + data['doctor_notes']\n",
        "data['combined_text'] = data['combined_text'].apply(preprocess_text)"
      ]
    },
    {
      "cell_type": "code",
      "execution_count": null,
      "metadata": {
        "id": "OIreeVf9pz4u",
        "outputId": "2535059b-3e8a-4c5f-b057-71c17b2d8c82"
      },
      "outputs": [
        {
          "data": {
            "text/html": [
              "<div>\n",
              "<style scoped>\n",
              "    .dataframe tbody tr th:only-of-type {\n",
              "        vertical-align: middle;\n",
              "    }\n",
              "\n",
              "    .dataframe tbody tr th {\n",
              "        vertical-align: top;\n",
              "    }\n",
              "\n",
              "    .dataframe thead th {\n",
              "        text-align: right;\n",
              "    }\n",
              "</style>\n",
              "<table border=\"1\" class=\"dataframe\">\n",
              "  <thead>\n",
              "    <tr style=\"text-align: right;\">\n",
              "      <th></th>\n",
              "      <th>patient_id</th>\n",
              "      <th>name</th>\n",
              "      <th>age</th>\n",
              "      <th>gender</th>\n",
              "      <th>medical_conditions</th>\n",
              "      <th>current_medications</th>\n",
              "      <th>visit_id</th>\n",
              "      <th>visit_date</th>\n",
              "      <th>problem_description</th>\n",
              "      <th>doctor_notes</th>\n",
              "      <th>tests_ordered</th>\n",
              "      <th>test_results</th>\n",
              "      <th>combined_text</th>\n",
              "    </tr>\n",
              "  </thead>\n",
              "  <tbody>\n",
              "    <tr>\n",
              "      <th>0</th>\n",
              "      <td>P00000</td>\n",
              "      <td>Damon Moore</td>\n",
              "      <td>38</td>\n",
              "      <td>Male</td>\n",
              "      <td>Hypertension</td>\n",
              "      <td>Vitamin D; Lisinopril; Albuterol; Levothyroxine</td>\n",
              "      <td>V0001</td>\n",
              "      <td>2024-08-13</td>\n",
              "      <td>Muscle Cramps</td>\n",
              "      <td>Recommend tests: Lisinopril. | Encourage a Lev...</td>\n",
              "      <td>Blood Pressure Monitoring</td>\n",
              "      <td>Blood Pressure Monitoring: 5.1</td>\n",
              "      <td>hypertension vitamin d lisinopril albuterol le...</td>\n",
              "    </tr>\n",
              "    <tr>\n",
              "      <th>1</th>\n",
              "      <td>P00000</td>\n",
              "      <td>Damon Moore</td>\n",
              "      <td>38</td>\n",
              "      <td>Male</td>\n",
              "      <td>Hypertension</td>\n",
              "      <td>Vitamin D; Lisinopril; Albuterol; Levothyroxine</td>\n",
              "      <td>V0002</td>\n",
              "      <td>2024-01-04</td>\n",
              "      <td>Fatigue</td>\n",
              "      <td>Recommend tests: Albuterol. | Increase dosage ...</td>\n",
              "      <td>Blood Pressure Monitoring; Lipid Profile; Elec...</td>\n",
              "      <td>Blood Pressure Monitoring: 8.78; Lipid Profile...</td>\n",
              "      <td>hypertension vitamin d lisinopril albuterol le...</td>\n",
              "    </tr>\n",
              "    <tr>\n",
              "      <th>2</th>\n",
              "      <td>P00000</td>\n",
              "      <td>Damon Moore</td>\n",
              "      <td>38</td>\n",
              "      <td>Male</td>\n",
              "      <td>Hypertension</td>\n",
              "      <td>Vitamin D; Lisinopril; Albuterol; Levothyroxine</td>\n",
              "      <td>V0003</td>\n",
              "      <td>2024-05-25</td>\n",
              "      <td>Joint Pain</td>\n",
              "      <td>Schedule a follow-up in Atorvastatin weeks for...</td>\n",
              "      <td>Electrolyte Panel</td>\n",
              "      <td>Electrolyte Panel: 6.93</td>\n",
              "      <td>hypertension vitamin d lisinopril albuterol le...</td>\n",
              "    </tr>\n",
              "    <tr>\n",
              "      <th>3</th>\n",
              "      <td>P00000</td>\n",
              "      <td>Damon Moore</td>\n",
              "      <td>38</td>\n",
              "      <td>Male</td>\n",
              "      <td>Hypertension</td>\n",
              "      <td>Vitamin D; Lisinopril; Albuterol; Levothyroxine</td>\n",
              "      <td>V0004</td>\n",
              "      <td>2024-07-01</td>\n",
              "      <td>Fatigue</td>\n",
              "      <td>Recommend tests: Albuterol. | Encourage a Lisi...</td>\n",
              "      <td>Nerve Conduction Test; Lipid Profile; Electrol...</td>\n",
              "      <td>Nerve Conduction Test: 1.21; Lipid Profile: 8....</td>\n",
              "      <td>hypertension vitamin d lisinopril albuterol le...</td>\n",
              "    </tr>\n",
              "    <tr>\n",
              "      <th>4</th>\n",
              "      <td>P00000</td>\n",
              "      <td>Damon Moore</td>\n",
              "      <td>38</td>\n",
              "      <td>Male</td>\n",
              "      <td>Hypertension</td>\n",
              "      <td>Vitamin D; Lisinopril; Albuterol; Levothyroxine</td>\n",
              "      <td>V0005</td>\n",
              "      <td>2024-09-26</td>\n",
              "      <td>Numbness in Feet</td>\n",
              "      <td>Patient shows signs of Atorvastatin. Recommend...</td>\n",
              "      <td>Lipid Profile; Electrolyte Panel</td>\n",
              "      <td>Lipid Profile: 8.52; Electrolyte Panel: 5.5</td>\n",
              "      <td>hypertension vitamin d lisinopril albuterol le...</td>\n",
              "    </tr>\n",
              "  </tbody>\n",
              "</table>\n",
              "</div>"
            ],
            "text/plain": [
              "  patient_id         name  age gender medical_conditions  \\\n",
              "0     P00000  Damon Moore   38   Male       Hypertension   \n",
              "1     P00000  Damon Moore   38   Male       Hypertension   \n",
              "2     P00000  Damon Moore   38   Male       Hypertension   \n",
              "3     P00000  Damon Moore   38   Male       Hypertension   \n",
              "4     P00000  Damon Moore   38   Male       Hypertension   \n",
              "\n",
              "                               current_medications visit_id  visit_date  \\\n",
              "0  Vitamin D; Lisinopril; Albuterol; Levothyroxine    V0001  2024-08-13   \n",
              "1  Vitamin D; Lisinopril; Albuterol; Levothyroxine    V0002  2024-01-04   \n",
              "2  Vitamin D; Lisinopril; Albuterol; Levothyroxine    V0003  2024-05-25   \n",
              "3  Vitamin D; Lisinopril; Albuterol; Levothyroxine    V0004  2024-07-01   \n",
              "4  Vitamin D; Lisinopril; Albuterol; Levothyroxine    V0005  2024-09-26   \n",
              "\n",
              "  problem_description                                       doctor_notes  \\\n",
              "0       Muscle Cramps  Recommend tests: Lisinopril. | Encourage a Lev...   \n",
              "1             Fatigue  Recommend tests: Albuterol. | Increase dosage ...   \n",
              "2          Joint Pain  Schedule a follow-up in Atorvastatin weeks for...   \n",
              "3             Fatigue  Recommend tests: Albuterol. | Encourage a Lisi...   \n",
              "4    Numbness in Feet  Patient shows signs of Atorvastatin. Recommend...   \n",
              "\n",
              "                                       tests_ordered  \\\n",
              "0                          Blood Pressure Monitoring   \n",
              "1  Blood Pressure Monitoring; Lipid Profile; Elec...   \n",
              "2                                  Electrolyte Panel   \n",
              "3  Nerve Conduction Test; Lipid Profile; Electrol...   \n",
              "4                   Lipid Profile; Electrolyte Panel   \n",
              "\n",
              "                                        test_results  \\\n",
              "0                     Blood Pressure Monitoring: 5.1   \n",
              "1  Blood Pressure Monitoring: 8.78; Lipid Profile...   \n",
              "2                            Electrolyte Panel: 6.93   \n",
              "3  Nerve Conduction Test: 1.21; Lipid Profile: 8....   \n",
              "4        Lipid Profile: 8.52; Electrolyte Panel: 5.5   \n",
              "\n",
              "                                       combined_text  \n",
              "0  hypertension vitamin d lisinopril albuterol le...  \n",
              "1  hypertension vitamin d lisinopril albuterol le...  \n",
              "2  hypertension vitamin d lisinopril albuterol le...  \n",
              "3  hypertension vitamin d lisinopril albuterol le...  \n",
              "4  hypertension vitamin d lisinopril albuterol le...  "
            ]
          },
          "execution_count": 6,
          "metadata": {},
          "output_type": "execute_result"
        }
      ],
      "source": [
        "data.head()"
      ]
    },
    {
      "cell_type": "markdown",
      "source": [
        "# Step 2: Vectorization using Embedding Model"
      ],
      "metadata": {
        "id": "te2eA0YCqDw-"
      }
    },
    {
      "cell_type": "code",
      "execution_count": null,
      "metadata": {
        "id": "aPiCqxEQQaEc"
      },
      "outputs": [],
      "source": [
        "model = SentenceTransformer('all-MiniLM-L6-v2')\n",
        "embeddings = model.encode(data['combined_text'].tolist(), convert_to_tensor=False)"
      ]
    },
    {
      "cell_type": "markdown",
      "metadata": {
        "id": "6z_lrNunpz4v"
      },
      "source": [
        "## Step 3: Building the Vector Store\n",
        "\n"
      ]
    },
    {
      "cell_type": "code",
      "execution_count": null,
      "metadata": {
        "id": "RYV4RLNkQwqd"
      },
      "outputs": [],
      "source": [
        "vector_dimension = embeddings[0].shape[0]\n",
        "faiss_index = faiss.IndexFlatL2(vector_dimension)\n",
        "\n",
        "# Convert embeddings to float32 for FAISS compatibility\n",
        "embeddings = np.array(embeddings).astype('float32')\n",
        "\n",
        "# Add embeddings to the FAISS index\n",
        "faiss_index.add(embeddings)"
      ]
    },
    {
      "cell_type": "markdown",
      "metadata": {
        "id": "g0LKxAS9pz4v"
      },
      "source": [
        "## Step 4: Implementing Search Capabilities\n",
        "\n"
      ]
    },
    {
      "cell_type": "code",
      "execution_count": null,
      "metadata": {
        "id": "6fPpImWAQ1s_"
      },
      "outputs": [],
      "source": [
        "def search_similar_records(query, top_k=5):\n",
        "    query = preprocess_text(query)\n",
        "    query_embedding = model.encode([query], convert_to_tensor=False).astype('float32')\n",
        "\n",
        "    # Search the FAISS index\n",
        "    distances, indices = faiss_index.search(query_embedding, top_k)\n",
        "\n",
        "    # Retrieve the corresponding patient records\n",
        "    results = data.iloc[indices[0]]\n",
        "    return results"
      ]
    },
    {
      "cell_type": "markdown",
      "metadata": {
        "id": "k4GA78EQpz4w"
      },
      "source": [
        "### Example Usage: Searching for Similar Records\n",
        "\n"
      ]
    },
    {
      "cell_type": "code",
      "execution_count": null,
      "metadata": {
        "id": "z-YNTNauQ4hS",
        "outputId": "42c1e511-1366-4aba-ac6d-2a34c8852d02"
      },
      "outputs": [
        {
          "name": "stdout",
          "output_type": "stream",
          "text": [
            "                                            doctor_notes\n",
            "42929  Recommend tests: Metformin. | Increase dosage ...\n",
            "22682  Recommend tests: Metformin. | Encourage a Albu...\n",
            "30824  Recommend tests: Atorvastatin. | Patient shows...\n",
            "41511  Recommend tests: Metformin. | Patient shows si...\n",
            "11576  Patient shows signs of Metformin. Recommend 5....\n"
          ]
        }
      ],
      "source": [
        "query = \"What are test recommended dugin Frequent Urination\"\n",
        "similar_records = search_similar_records(query)\n",
        "print(similar_records[['doctor_notes']])\n"
      ]
    },
    {
      "cell_type": "code",
      "execution_count": null,
      "metadata": {
        "id": "iu1AAIvjUBHd",
        "outputId": "dfce04e5-0768-46b3-8a1e-f822f371965a"
      },
      "outputs": [
        {
          "data": {
            "text/plain": [
              "'Recommend tests: Metformin. | Increase dosage of Metformin to 14 units/day. | Patient shows signs of Albuterol. Recommend 10.'"
            ]
          },
          "execution_count": 96,
          "metadata": {},
          "output_type": "execute_result"
        }
      ],
      "source": [
        "similar_records[['doctor_notes']].iloc[0,0]"
      ]
    },
    {
      "cell_type": "markdown",
      "metadata": {
        "id": "YPlYPw3qpz4x"
      },
      "source": [
        "## Step 5: Setting Up the Language Model (LLM) with Langchain Together\n",
        "\n"
      ]
    },
    {
      "cell_type": "code",
      "execution_count": null,
      "metadata": {
        "id": "zOTVlpMFpz4x"
      },
      "outputs": [],
      "source": [
        "from langchain_community.llms import Together\n",
        "import os\n",
        "os.environ['TOGETHER_API_KEY']= \"d6117b27b27e38d385e8c72da91dbeec1e20f5a7741f705c5e591b613d07b989\"\n",
        "llm=Together(model=\"meta-llama/Meta-Llama-3.1-405B-Instruct-Turbo\")"
      ]
    },
    {
      "cell_type": "markdown",
      "metadata": {
        "id": "SLk-Qq_npz4x"
      },
      "source": [
        "## Step 6: Generating Answers Using the Together LLaMA Model\n",
        "\n"
      ]
    },
    {
      "cell_type": "code",
      "execution_count": null,
      "metadata": {
        "id": "ATSfTk0ypz4x"
      },
      "outputs": [],
      "source": [
        "def generate_answer(query):\n",
        "\n",
        "    similar_records = search_similar_records(query)\n",
        "    global context\n",
        "    # Prepare context for generation\n",
        "    context = \"\\n\".join(similar_records['combined_text'].tolist())\n",
        "    template = \"\"\"Use the following pieces of context to answer the question at the end.\n",
        "    If you don't know the answer, just say you don't know, don't try to make up an answer.\n",
        "    Your answer should be helpful and informative, but not too long.\n",
        "    The answer should explain the concept in a way that is easy to understand for someone who is not an expert in the field.\n",
        "    The answer should explain the concept in one or two lines and if needed other aspects in bullet points.\n",
        "    Use bullet point sentences maximum and keep the answer as concise as possible.\n",
        "\n",
        "    {context}\n",
        "\n",
        "    Question: {question}\n",
        "\n",
        "    Helpful Answer:\"\"\"\n",
        "    prompt = template.format(context=context, question=query)\n",
        "\n",
        "    # Generate answer using Together model\n",
        "    response = llm.generate([prompt]).generations[0][0].text\n",
        "    return response"
      ]
    },
    {
      "cell_type": "markdown",
      "metadata": {
        "id": "D6YARblQpz4x"
      },
      "source": [
        "### Example Usage: Using the RAG Pipeline to Answer Queries\n"
      ]
    },
    {
      "cell_type": "code",
      "execution_count": null,
      "metadata": {
        "id": "yb-B2P-Fpz4x",
        "outputId": "0c075e11-07e5-4f7a-8942-1e78c4194eb6"
      },
      "outputs": [
        {
          "name": "stdout",
          "output_type": "stream",
          "text": [
            " The recommended tests for patients with numbness in feet are not explicitly stated in the provided context. However, based on the information given, the following tests might be considered:\n",
            "    • Blood tests to check for diabetes (e.g., insulin, metformin) and thyroid function (e.g., levothyroxine)\n",
            "    • Tests to diagnose coronary artery disease (e.g., amlodipine, aspirin)\n",
            "    • Nerve conduction studies to assess nerve damage\n",
            "    • Imaging tests (e.g., X-rays, MRI) to evaluate joint health (e.g., arthritis) and potential nerve compression\n",
            "    Please consult a healthcare professional for personalized advice and testing recommendations.\n"
          ]
        }
      ],
      "source": [
        "query = \"What tests are recommended for patients with numbness?\"\n",
        "answer = generate_answer(query)\n",
        "print(answer)\n"
      ]
    },
    {
      "cell_type": "code",
      "execution_count": null,
      "metadata": {
        "id": "mENnWc2Spz4x"
      },
      "outputs": [],
      "source": []
    }
  ],
  "metadata": {
    "accelerator": "GPU",
    "colab": {
      "gpuType": "T4",
      "provenance": []
    },
    "kernelspec": {
      "display_name": "Python 3 (ipykernel)",
      "language": "python",
      "name": "python3"
    },
    "language_info": {
      "codemirror_mode": {
        "name": "ipython",
        "version": 3
      },
      "file_extension": ".py",
      "mimetype": "text/x-python",
      "name": "python",
      "nbconvert_exporter": "python",
      "pygments_lexer": "ipython3",
      "version": "3.12.3"
    }
  },
  "nbformat": 4,
  "nbformat_minor": 0
}