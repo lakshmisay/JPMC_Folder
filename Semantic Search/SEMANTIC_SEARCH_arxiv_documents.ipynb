{
  "nbformat": 4,
  "nbformat_minor": 0,
  "metadata": {
    "colab": {
      "provenance": []
    },
    "kernelspec": {
      "name": "python3",
      "display_name": "Python 3"
    },
    "language_info": {
      "name": "python"
    }
  },
  "cells": [
    {
      "cell_type": "code",
      "source": [
        "!pip install faiss-cpu"
      ],
      "metadata": {
        "colab": {
          "base_uri": "https://localhost:8080/"
        },
        "id": "5phaade-D06z",
        "outputId": "fc018fdf-34c4-4a82-d1bd-2ab600d9683b"
      },
      "execution_count": 1,
      "outputs": [
        {
          "output_type": "stream",
          "name": "stdout",
          "text": [
            "Requirement already satisfied: faiss-cpu in /usr/local/lib/python3.10/dist-packages (1.9.0.post1)\n",
            "Requirement already satisfied: numpy<3.0,>=1.25.0 in /usr/local/lib/python3.10/dist-packages (from faiss-cpu) (1.26.4)\n",
            "Requirement already satisfied: packaging in /usr/local/lib/python3.10/dist-packages (from faiss-cpu) (24.2)\n"
          ]
        }
      ]
    },
    {
      "cell_type": "code",
      "source": [
        "from sentence_transformers import SentenceTransformer\n",
        "import faiss\n",
        "import numpy as np\n",
        "import json\n",
        "import pandas as pd"
      ],
      "metadata": {
        "id": "rOOxe8nElr6L"
      },
      "execution_count": 2,
      "outputs": []
    },
    {
      "cell_type": "code",
      "source": [
        "# def load_data(json_file):\n",
        "#     try:\n",
        "#         with open(json_file, 'r') as file:\n",
        "#             data = [json.loads(line.strip()) for line in file]  # Line-by-line JSON parsing\n",
        "#         return pd.DataFrame(data)\n",
        "#     except json.JSONDecodeError as e:\n",
        "#         print(f\"JSONDecodeError: {e}\")\n",
        "#         return pd.DataFrame()  # Return an empty DataFrame in case of an error\n",
        "\n",
        "# # Step 2: Preprocess Data\n",
        "# def preprocess_data(df):\n",
        "#     df[\"Content\"] = df[\"Title\"] + \". \" + df[\"Abstract\"] + \". \" + df[\"Keywords\"]\n",
        "#     return df"
      ],
      "metadata": {
        "id": "soBfsFEjljXb"
      },
      "execution_count": 3,
      "outputs": []
    },
    {
      "cell_type": "markdown",
      "source": [
        "# Step 1: Load the model\n"
      ],
      "metadata": {
        "id": "gtR4IWiOl_eW"
      }
    },
    {
      "cell_type": "code",
      "source": [
        "model = SentenceTransformer('all-MiniLM-L6-v2')"
      ],
      "metadata": {
        "colab": {
          "base_uri": "https://localhost:8080/"
        },
        "id": "POskIm6emBsO",
        "outputId": "19f550de-4a3d-4cf0-dda6-0a0f4615ae24"
      },
      "execution_count": 4,
      "outputs": [
        {
          "output_type": "stream",
          "name": "stderr",
          "text": [
            "/usr/local/lib/python3.10/dist-packages/huggingface_hub/utils/_auth.py:94: UserWarning: \n",
            "The secret `HF_TOKEN` does not exist in your Colab secrets.\n",
            "To authenticate with the Hugging Face Hub, create a token in your settings tab (https://huggingface.co/settings/tokens), set it as secret in your Google Colab and restart your session.\n",
            "You will be able to reuse this secret in all of your notebooks.\n",
            "Please note that authentication is recommended but still optional to access public models or datasets.\n",
            "  warnings.warn(\n"
          ]
        }
      ]
    },
    {
      "cell_type": "markdown",
      "source": [
        "# Step 2: Data Preparation"
      ],
      "metadata": {
        "id": "5waabzLbmFgW"
      }
    },
    {
      "cell_type": "code",
      "source": [
        "arxiv_documents = [\n",
        "    {\"Paper ID\": \"arXiv:2101.00001\", \"Title\": \"Transformers in NLP\", \"Abstract\": \"This paper reviews the role of transformers in natural language processing.\", \"Keywords\": \"Transformers, NLP, Deep Learning\"},\n",
        "    {\"Paper ID\": \"arXiv:2101.00002\", \"Title\": \"Quantum Computing Basics\", \"Abstract\": \"An introduction to the principles of quantum computing and its potential applications.\", \"Keywords\": \"Quantum Computing, Physics, Technology\"},\n",
        "    {\"Paper ID\": \"arXiv:2101.00003\", \"Title\": \"Climate Change Impacts\", \"Abstract\": \"Examining the effects of climate change on global ecosystems and weather patterns.\", \"Keywords\": \"Climate Change, Environment, Ecosystems\"},\n",
        "    {\"Paper ID\": \"arXiv:2101.00004\", \"Title\": \"AI in Healthcare\", \"Abstract\": \"Exploring the applications of artificial intelligence in healthcare for diagnosis and treatment.\", \"Keywords\": \"AI, Healthcare, Diagnosis\"},\n",
        "    {\"Paper ID\": \"arXiv:2101.00005\", \"Title\": \"Advances in Computer Vision\", \"Abstract\": \"A survey of recent advancements in computer vision techniques and applications.\", \"Keywords\": \"Computer Vision, AI, Image Processing\"}\n",
        "]"
      ],
      "metadata": {
        "id": "Dz5RJ7LCmS6S"
      },
      "execution_count": 5,
      "outputs": []
    },
    {
      "cell_type": "markdown",
      "source": [
        "# Convert to DataFrame for Processing\n"
      ],
      "metadata": {
        "id": "XxP_7Xakndf7"
      }
    },
    {
      "cell_type": "code",
      "source": [
        "def get_arxiv_sample_data():\n",
        "    return pd.DataFrame(arxiv_documents)"
      ],
      "metadata": {
        "id": "YW82q9Sfm8ih"
      },
      "execution_count": 6,
      "outputs": []
    },
    {
      "cell_type": "markdown",
      "source": [
        "# Generate Embeddings and Create FAISS Index\n"
      ],
      "metadata": {
        "id": "7Ov7LplDnio1"
      }
    },
    {
      "cell_type": "code",
      "source": [
        "def build_faiss_index(documents, model_name=\"all-MiniLM-L6-v2\"):\n",
        "    model = SentenceTransformer(model_name)\n",
        "\n",
        "    # Combine Title and Abstract for Embedding\n",
        "    contents = [f\"{doc['Title']}. {doc['Abstract']}\" for doc in documents]\n",
        "    doc_embeddings = model.encode(contents, convert_to_numpy=True)\n",
        "\n",
        "    # Create FAISS Index\n",
        "    dimension = doc_embeddings.shape[1]  # Embedding dimension\n",
        "    index = faiss.IndexFlatL2(dimension)  # L2 similarity\n",
        "    index.add(doc_embeddings)\n",
        "\n",
        "    return index, model\n",
        "\n",
        "index, model = build_faiss_index(arxiv_documents)"
      ],
      "metadata": {
        "id": "SZY54fNmnn9b"
      },
      "execution_count": 7,
      "outputs": []
    },
    {
      "cell_type": "markdown",
      "source": [
        "# Perform Semantic Search"
      ],
      "metadata": {
        "id": "wpHiKRIrnpwp"
      }
    },
    {
      "cell_type": "code",
      "source": [
        "def semantic_search(query, model, index, documents, top_k=3):\n",
        "    query_embedding = model.encode([query], convert_to_numpy=True)\n",
        "    distances, indices = index.search(query_embedding, top_k)\n",
        "    results = [\n",
        "        {\n",
        "            \"Paper ID\": documents[i][\"Paper ID\"],\n",
        "            \"Title\": documents[i][\"Title\"],\n",
        "            \"Abstract\": documents[i][\"Abstract\"],\n",
        "            \"Distance\": distances[0][j]\n",
        "        }\n",
        "        for j, i in enumerate(indices[0])\n",
        "    ]\n",
        "    return results"
      ],
      "metadata": {
        "id": "dtbtzjBynuDV"
      },
      "execution_count": 8,
      "outputs": []
    },
    {
      "cell_type": "markdown",
      "source": [
        "# Example Query"
      ],
      "metadata": {
        "id": "kEKHK44pn4xc"
      }
    },
    {
      "cell_type": "code",
      "source": [
        "query = \"Applications of AI in medicine\"\n",
        "results = semantic_search(query, model, index, arxiv_documents)"
      ],
      "metadata": {
        "id": "TgLINZVJn78w"
      },
      "execution_count": 9,
      "outputs": []
    },
    {
      "cell_type": "markdown",
      "source": [
        "# Display Results"
      ],
      "metadata": {
        "id": "M7c2uRm6oA7v"
      }
    },
    {
      "cell_type": "code",
      "source": [
        "print(\"Query:\", query)\n",
        "print(\"Top Results:\")\n",
        "for result in results:\n",
        "    print(f\" - {result['Title']} (Distance: {result['Distance']:.4f})\")"
      ],
      "metadata": {
        "colab": {
          "base_uri": "https://localhost:8080/"
        },
        "id": "95OfLCvGn_7D",
        "outputId": "ec7dce3f-6aac-41dc-ca19-d53651d6eaf9"
      },
      "execution_count": 10,
      "outputs": [
        {
          "output_type": "stream",
          "name": "stdout",
          "text": [
            "Query: Applications of AI in medicine\n",
            "Top Results:\n",
            " - AI in Healthcare (Distance: 0.4330)\n",
            " - Quantum Computing Basics (Distance: 1.6562)\n",
            " - Advances in Computer Vision (Distance: 1.7169)\n"
          ]
        }
      ]
    }
  ]
}